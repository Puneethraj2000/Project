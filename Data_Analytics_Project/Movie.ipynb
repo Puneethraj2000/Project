{
 "cells": [
  {
   "cell_type": "code",
   "execution_count": null,
   "id": "60331255",
   "metadata": {},
   "outputs": [],
   "source": [
    "import pandas as pd\n",
    "import numpy as np\n",
    "from sklearn.linear_model import LogisticRegression\n",
    "from sklearn.model_selection import train_test_split\n",
    "from sklearn.metrics import accuracy_score, confusion_matrix\n",
    "import matplotlib.pyplot as plt\n",
    "import warnings\n",
    "from warnings import filterwarnings\n",
    "filterwarnings(\"ignore\")"
   ]
  },
  {
   "cell_type": "code",
   "execution_count": null,
   "id": "3c7bd479",
   "metadata": {},
   "outputs": [],
   "source": [
    "movies = pd.read_csv('movies.dat', sep='::', engine='python', header=None, names=['movie_id', 'title', 'genres'], encoding='latin-1')\n",
    "movies.head()"
   ]
  },
  {
   "cell_type": "code",
   "execution_count": null,
   "id": "ef7020b1",
   "metadata": {},
   "outputs": [],
   "source": [
    "ratings = pd.read_csv('ratings.dat', sep='::', engine='python', header=None, names=['user_id', 'movie_id', 'rating', 'timestamp'])\n",
    "ratings.head()"
   ]
  },
  {
   "cell_type": "code",
   "execution_count": null,
   "id": "a71efed5",
   "metadata": {},
   "outputs": [],
   "source": [
    "users = pd.read_csv('users_old.csv', engine='python', header=None, names=['user_id', 'gender', 'age', 'occupation', 'zip_code'])\n",
    "users.head()"
   ]
  },
  {
   "cell_type": "code",
   "execution_count": null,
   "id": "084c3b51",
   "metadata": {},
   "outputs": [],
   "source": [
    "movies.drop_duplicates(subset = [\"title\"],keep = \"last\").head()"
   ]
  },
  {
   "cell_type": "code",
   "execution_count": null,
   "id": "71375e32",
   "metadata": {},
   "outputs": [],
   "source": [
    "data = pd.merge(pd.merge(ratings, users), movies)\n",
    "data.head()"
   ]
  },
  {
   "cell_type": "code",
   "execution_count": null,
   "id": "df8eacbb",
   "metadata": {},
   "outputs": [],
   "source": [
    "pref = pd.read_csv('preference.csv')\n",
    "pref.head()"
   ]
  },
  {
   "cell_type": "code",
   "execution_count": null,
   "id": "d2b05193",
   "metadata": {},
   "outputs": [],
   "source": [
    "df_dropped = pref.dropna()\n",
    "df_dropped.head()"
   ]
  },
  {
   "cell_type": "code",
   "execution_count": null,
   "id": "d405c643",
   "metadata": {},
   "outputs": [],
   "source": [
    "topRate = pref.query(\"rating == 10\")\n",
    "topRate[\"title\"].value_counts().head()"
   ]
  },
  {
   "cell_type": "code",
   "execution_count": null,
   "id": "538f8169",
   "metadata": {},
   "outputs": [],
   "source": [
    "rating = pref[\"rating\"].value_counts()\n",
    "rating"
   ]
  },
  {
   "cell_type": "code",
   "execution_count": null,
   "id": "14ad3737",
   "metadata": {},
   "outputs": [],
   "source": [
    "rating = pref[\"rating\"].value_counts()\n",
    "numbers = rating.index\n",
    "quantity = rating.values\n",
    "import plotly.express as px\n",
    "fig = px.pie(data, values=quantity, names=numbers)\n",
    "fig.show()"
   ]
  },
  {
   "cell_type": "code",
   "execution_count": null,
   "id": "e8b86268",
   "metadata": {},
   "outputs": [],
   "source": [
    "X = pref[['age','rating','user_id']]\n",
    "X.head()"
   ]
  },
  {
   "cell_type": "code",
   "execution_count": null,
   "id": "042421fa",
   "metadata": {},
   "outputs": [],
   "source": [
    "y = pref['preference']\n",
    "y.head()"
   ]
  },
  {
   "cell_type": "code",
   "execution_count": null,
   "id": "1916e9dc",
   "metadata": {},
   "outputs": [],
   "source": [
    "X_train, X_test, y_train, y_test = train_test_split(X, y, test_size=0.3, random_state=0)"
   ]
  },
  {
   "cell_type": "code",
   "execution_count": null,
   "id": "1a45e23d",
   "metadata": {},
   "outputs": [],
   "source": [
    "model = LogisticRegression()"
   ]
  },
  {
   "cell_type": "code",
   "execution_count": null,
   "id": "22b8cddf",
   "metadata": {},
   "outputs": [],
   "source": [
    "print(\"Shape of X_train = \",X_train.shape)\n",
    "print(\"Shape of X_test = \",X_test.shape)\n",
    "print(\"Shape of y_train = \",y_train.shape)\n",
    "print(\"Shape of y_test = \",y_test.shape)"
   ]
  },
  {
   "cell_type": "code",
   "execution_count": null,
   "id": "f5d5a98d",
   "metadata": {},
   "outputs": [],
   "source": [
    "model.fit(X_train, y_train)"
   ]
  },
  {
   "cell_type": "code",
   "execution_count": null,
   "id": "8e2597b5",
   "metadata": {},
   "outputs": [],
   "source": [
    "y_pred = model.predict(X_test)\n",
    "y_pred"
   ]
  },
  {
   "cell_type": "code",
   "execution_count": null,
   "id": "5ca37f9b",
   "metadata": {},
   "outputs": [],
   "source": [
    "y_test"
   ]
  },
  {
   "cell_type": "code",
   "execution_count": null,
   "id": "a32c4883",
   "metadata": {},
   "outputs": [],
   "source": [
    "accuracy = accuracy_score(y_test, y_pred)\n",
    "print('Accuracy:', accuracy)"
   ]
  },
  {
   "cell_type": "code",
   "execution_count": null,
   "id": "5226230d",
   "metadata": {},
   "outputs": [],
   "source": [
    "# Get the list of recommended movies for a new user based on their age\n",
    "def get_recommendations(age):\n",
    "    for i in age:\n",
    "        user_data = [[i, 0, 0]]\n",
    "        user_preference = model.predict(user_data)[0]# Set the user's ratings and ID to 0\n",
    "        if user_preference == 1:\n",
    "    #         if pref[pref[age]] in :\n",
    "\n",
    "                recommended_movies = pref[pref['age'] == i]['title']\n",
    "                return list(recommended_movies)\n",
    "        else:\n",
    "            return []\n",
    "\n",
    "# Example usage\n",
    "new_user_age = int(input(\"Enter your age:\"))\n",
    "if new_user_age in range(1,8):\n",
    "  agelist=list(range(1,8))\n",
    "elif new_user_age in range(8,18):\n",
    "  agelist=list(range(8,18))\n",
    "elif new_user_age in range(18,25):\n",
    "  agelist=list(range(18,25))\n",
    "elif new_user_age in range(25,35):\n",
    "  agelist=list(range(25,35))\n",
    "elif new_user_age in range(35,50):\n",
    "  agelist=list(range(35,50))\n",
    "else:\n",
    "  agelist=list(range(50,100))\n",
    "recommended_movies = get_recommendations(agelist)\n",
    "if recommended_movies:\n",
    "    recommended_movies=list(set(recommended_movies))\n",
    "    print('Top 10 Recommended movies for user with age', new_user_age, ':\\n')\n",
    "    for i in recommended_movies[0:10]:\n",
    "        print(i)\n",
    "else:\n",
    "    print('No movie recommendation for the user who have the age',new_user_age,'.')"
   ]
  },
  {
   "cell_type": "code",
   "execution_count": null,
   "id": "b04a92b2",
   "metadata": {},
   "outputs": [],
   "source": []
  }
 ],
 "metadata": {
  "kernelspec": {
   "display_name": "Python 3 (ipykernel)",
   "language": "python",
   "name": "python3"
  },
  "language_info": {
   "codemirror_mode": {
    "name": "ipython",
    "version": 3
   },
   "file_extension": ".py",
   "mimetype": "text/x-python",
   "name": "python",
   "nbconvert_exporter": "python",
   "pygments_lexer": "ipython3",
   "version": "3.9.13"
  }
 },
 "nbformat": 4,
 "nbformat_minor": 5
}
